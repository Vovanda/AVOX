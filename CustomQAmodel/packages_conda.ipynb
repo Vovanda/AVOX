{
 "cells": [
  {
   "cell_type": "markdown",
   "metadata": {},
   "source": [
    "# Важно обязательно использовать отдельное/виртуальное окружение python!\n",
    "\n",
    "> При использовани окружения Anaconda предпочтительно устанавливать библиотеки используя менеджер пакетов **codna** \\\n",
    "> В случаее отсутсвия пакетов или некорректной работы - допустима устанановка пакета из **pip** \\\n",
    "> (могут быть проблемы при совмесной работе пакетов установленых разными менеджерами пакетов)"
   ]
  },
  {
   "cell_type": "markdown",
   "metadata": {},
   "source": [
    "### Установка необходимых пакетов"
   ]
  },
  {
   "cell_type": "code",
   "execution_count": 1,
   "metadata": {},
   "outputs": [
    {
     "name": "stdout",
     "output_type": "stream",
     "text": [
      "c:\\Users\\Baaankir\\Documents\\MyAI\\T5\\.conda\n"
     ]
    }
   ],
   "source": [
    "import sys\n",
    "\n",
    "# Путь до директории текущего окружения .conda\n",
    "print(sys.prefix) "
   ]
  },
  {
   "cell_type": "code",
   "execution_count": 2,
   "metadata": {},
   "outputs": [
    {
     "name": "stdout",
     "output_type": "stream",
     "text": [
      "^C\n"
     ]
    }
   ],
   "source": [
    "# PyTorch требует проверки работы см. \"Проверка доступности gpu\" ниже\n",
    "!conda install -p {sys.prefix} -y pytorch==2.2.1 pytorch-cuda=12.1 -c pytorch -c nvidia\n",
    "\n",
    "#!conda install -p {sys.prefix} -y torchvision==0.17.1 torchaudio==2.2.1  pytorch-cuda=12.1 -c pytorch -c nvidia\n",
    "#!conda remove -p {sys.prefix} -y pytorch pytorch-cuda"
   ]
  },
  {
   "cell_type": "code",
   "execution_count": null,
   "metadata": {},
   "outputs": [],
   "source": [
    "!conda install -p {sys.prefix} -y cudatoolkit"
   ]
  },
  {
   "cell_type": "code",
   "execution_count": null,
   "metadata": {},
   "outputs": [],
   "source": [
    "!conda install -p {sys.prefix} -y cudnn"
   ]
  },
  {
   "cell_type": "code",
   "execution_count": null,
   "metadata": {},
   "outputs": [],
   "source": [
    "!conda install -p {sys.prefix} -y lightning\n",
    "#!conda remove -p {sys.prefix} -y lightning"
   ]
  },
  {
   "cell_type": "code",
   "execution_count": null,
   "metadata": {},
   "outputs": [],
   "source": [
    "!conda install -p {sys.prefix} -y transformers"
   ]
  },
  {
   "cell_type": "code",
   "execution_count": null,
   "metadata": {},
   "outputs": [],
   "source": [
    "!conda install -p {sys.prefix} -y scikit-learn \n"
   ]
  },
  {
   "cell_type": "code",
   "execution_count": null,
   "metadata": {},
   "outputs": [],
   "source": [
    "!conda install  -p {sys.prefix} -y sentencepiece "
   ]
  },
  {
   "cell_type": "code",
   "execution_count": null,
   "metadata": {},
   "outputs": [],
   "source": [
    "!conda install  -p {sys.prefix} -y pandas"
   ]
  },
  {
   "cell_type": "markdown",
   "metadata": {},
   "source": [
    "### Проверка доступности gpu"
   ]
  },
  {
   "cell_type": "code",
   "execution_count": null,
   "metadata": {},
   "outputs": [],
   "source": [
    "import torch\n",
    "\n",
    "print(torch.rand(2, 3))\n",
    "print(torch.cuda.is_available())\n",
    "print([(i, torch.cuda.get_device_properties(i)) for i in range(torch.cuda.device_count())])"
   ]
  }
 ],
 "metadata": {
  "kernelspec": {
   "display_name": "Python 3",
   "language": "python",
   "name": "python3"
  },
  "language_info": {
   "codemirror_mode": {
    "name": "ipython",
    "version": 3
   },
   "file_extension": ".py",
   "mimetype": "text/x-python",
   "name": "python",
   "nbconvert_exporter": "python",
   "pygments_lexer": "ipython3",
   "version": "3.12.4"
  }
 },
 "nbformat": 4,
 "nbformat_minor": 2
}
