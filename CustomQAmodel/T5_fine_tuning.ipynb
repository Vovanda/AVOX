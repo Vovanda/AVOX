{
 "cells": [
  {
   "cell_type": "code",
   "execution_count": null,
   "metadata": {},
   "outputs": [],
   "source": [
    "%load_ext tensorboard"
   ]
  },
  {
   "cell_type": "code",
   "execution_count": 1,
   "metadata": {},
   "outputs": [
    {
     "name": "stderr",
     "output_type": "stream",
     "text": [
      "Special tokens have been added in the vocabulary, make sure the associated word embeddings are fine-tuned or trained.\n"
     ]
    }
   ],
   "source": [
    "import pandas as pd\n",
    "from py.misс import load_data\n",
    "from py.qa_models.dataset_model import QADataModule\n",
    "from transformers import AutoTokenizer, T5Tokenizer\n",
    "\n",
    "MODEL_NAME = \"ai-forever/ruT5-base\"\n",
    "BATCH_SIZE = 24\n",
    "N_EPOCHS = 3\n",
    "tokenizer:T5Tokenizer = T5Tokenizer.from_pretrained(MODEL_NAME, legacy = False)\n",
    "MAX_TEXT_TOKEN_LEN = 396\n",
    "train_df = load_data(\"datasets\\\\sberquad\\\\train_v1.0\\\\train_v1.0.json\", dropDuplicates=False, tokenizer = tokenizer, max_context_token_len=MAX_TEXT_TOKEN_LEN)\n",
    "\n",
    "context_token_len = train_df[\"context_token_len\"].max()\n",
    "question_token_len = train_df[\"question_token_len\"].max()\n",
    "answer_max_token_len = train_df[\"answer_max_token_len\"].max()\n",
    "\n",
    "val_df = load_data(\"datasets\\\\sberquad\\\\dev_v1.0\\\\dev_v1.0.json\", dropDuplicates=False, tokenizer = tokenizer, max_context_token_len=context_token_len)\n",
    "\n",
    "#idxmax = train_df.idxmax(axis = 0)\n",
    "\n",
    "dataLoader = QADataModule(tokenizer, train_df, val_df, val_df, train_batch_size=BATCH_SIZE, eval_batch_size=BATCH_SIZE,summary_max_token_len=answer_max_token_len,text_max_token_len=context_token_len)\n",
    "\n",
    "dataLoader.setup()"
   ]
  },
  {
   "cell_type": "code",
   "execution_count": 2,
   "metadata": {},
   "outputs": [
    {
     "name": "stdout",
     "output_type": "stream",
     "text": [
      "max_context_token_len: 393\n",
      "max_question_token_len: 140\n",
      "max_answer_max_token_len: 232\n"
     ]
    }
   ],
   "source": [
    "print(f\"max_context_token_len: {context_token_len}\")\n",
    "print(f\"max_question_token_len: {question_token_len}\")\n",
    "print(f\"max_answer_max_token_len: {answer_max_token_len}\")"
   ]
  },
  {
   "cell_type": "code",
   "execution_count": 4,
   "metadata": {},
   "outputs": [
    {
     "data": {
      "text/plain": [
       "44954"
      ]
     },
     "execution_count": 4,
     "metadata": {},
     "output_type": "execute_result"
    }
   ],
   "source": [
    "len(train_df)"
   ]
  },
  {
   "cell_type": "code",
   "execution_count": null,
   "metadata": {},
   "outputs": [
    {
     "name": "stderr",
     "output_type": "stream",
     "text": [
      "GPU available: True (cuda), used: True\n",
      "TPU available: False, using: 0 TPU cores\n",
      "HPU available: False, using: 0 HPUs\n",
      "c:\\Users\\SawKing\\Documents\\T5\\.venv\\Lib\\site-packages\\pytorch_lightning\\callbacks\\model_checkpoint.py:652: Checkpoint directory C:\\Users\\SawKing\\Documents\\T5\\checkpoints exists and is not empty.\n",
      "LOCAL_RANK: 0 - CUDA_VISIBLE_DEVICES: [0]\n",
      "\n",
      "  | Name  | Type                       | Params | Mode\n",
      "------------------------------------------------------------\n",
      "0 | model | T5ForConditionalGeneration | 222 M  | eval\n",
      "------------------------------------------------------------\n",
      "222 M     Trainable params\n",
      "0         Non-trainable params\n",
      "222 M     Total params\n",
      "891.614   Total estimated model params size (MB)\n"
     ]
    },
    {
     "data": {
      "application/vnd.jupyter.widget-view+json": {
       "model_id": "2412de3737ae4d4d8796007f73655f27",
       "version_major": 2,
       "version_minor": 0
      },
      "text/plain": [
       "Sanity Checking: |          | 0/? [00:00<?, ?it/s]"
      ]
     },
     "metadata": {},
     "output_type": "display_data"
    },
    {
     "data": {
      "application/vnd.jupyter.widget-view+json": {
       "model_id": "0f1a11e23e984d41b7813f907b08f634",
       "version_major": 2,
       "version_minor": 0
      },
      "text/plain": [
       "Training: |          | 0/? [00:00<?, ?it/s]"
      ]
     },
     "metadata": {},
     "output_type": "display_data"
    },
    {
     "name": "stderr",
     "output_type": "stream",
     "text": [
      "c:\\Users\\SawKing\\Documents\\T5\\.venv\\Lib\\site-packages\\pytorch_lightning\\trainer\\call.py:54: Detected KeyboardInterrupt, attempting graceful shutdown...\n"
     ]
    }
   ],
   "source": [
    "from py.qa_models.model import QAModule\n",
    "import pytorch_lightning as pl\n",
    "from pytorch_lightning.loggers import TensorBoardLogger\n",
    "from pytorch_lightning.callbacks import (ModelCheckpoint, EarlyStopping)\n",
    "from transformers import T5ForConditionalGeneration\n",
    "\n",
    "import torch\n",
    "\n",
    "device = torch.device('cuda:0' if torch.cuda.is_available() else 'cpu')\n",
    "t5_model = T5ForConditionalGeneration.from_pretrained(MODEL_NAME, return_dict=True)\n",
    "model = QAModule(t5_model, lr=1e-4, weight_decay=1e-5)\n",
    "model.to(device)\n",
    "\n",
    "torch.set_float32_matmul_precision('medium')\n",
    "\n",
    "tb_logger = TensorBoardLogger('logs', name=\"t5_qa\",)\n",
    "\n",
    "checkpoint_callback = ModelCheckpoint(\n",
    "    monitor=\"val_loss\",\n",
    "    dirpath=\"checkpoints\",\n",
    "    filename=\"best_model-{epoch:02d}-{val_loss:.2f}\",\n",
    "    save_top_k=1,\n",
    "    mode=\"min\",\n",
    "    every_n_epochs=1,\n",
    "    verbose=True\n",
    ")\n",
    "\n",
    "#early_stopping_callback = EarlyStopping(monitor=\"val_loss\", mode=\"min\")\n",
    "\n",
    "trainer = pl.Trainer(\n",
    "    callbacks=[checkpoint_callback],\n",
    "    logger=tb_logger,\n",
    "    max_epochs=N_EPOCHS,\n",
    "    accelerator=\"gpu\",\n",
    "    devices=1,\n",
    "    log_every_n_steps=1,\n",
    ")\n",
    "\n",
    "trainer.fit(model, dataLoader)\n",
    "#trainer.validate(model, dataLoader)"
   ]
  },
  {
   "cell_type": "code",
   "execution_count": 4,
   "metadata": {},
   "outputs": [
    {
     "name": "stderr",
     "output_type": "stream",
     "text": [
      "c:\\Users\\SawKing\\Documents\\T5\\.venv\\Lib\\site-packages\\pytorch_lightning\\trainer\\connectors\\checkpoint_connector.py:145: `.test(ckpt_path=None)` was called without a model. The best model of the previous `fit` call will be used. You can pass `.test(ckpt_path='best')` to use the best model or `.test(ckpt_path='last')` to use the last model. If you pass a value, this warning will be silenced.\n",
      "Restoring states from the checkpoint path at C:\\Users\\SawKing\\Documents\\T5\\checkpoints\\best_model-epoch=00-val_loss=2.88.ckpt\n",
      "LOCAL_RANK: 0 - CUDA_VISIBLE_DEVICES: [0]\n",
      "Loaded model weights from the checkpoint at C:\\Users\\SawKing\\Documents\\T5\\checkpoints\\best_model-epoch=00-val_loss=2.88.ckpt\n",
      "c:\\Users\\SawKing\\Documents\\T5\\.venv\\Lib\\site-packages\\pytorch_lightning\\trainer\\connectors\\data_connector.py:419: Consider setting `persistent_workers=True` in 'test_dataloader' to speed up the dataloader worker initialization.\n"
     ]
    },
    {
     "data": {
      "application/vnd.jupyter.widget-view+json": {
       "model_id": "77d9633c9c5244bba5d1a27f0a2f38c5",
       "version_major": 2,
       "version_minor": 0
      },
      "text/plain": [
       "Testing: |          | 0/? [00:00<?, ?it/s]"
      ]
     },
     "metadata": {},
     "output_type": "display_data"
    },
    {
     "name": "stdout",
     "output_type": "stream",
     "text": [
      "────────────────────────────────────────────────────────────────────────────────────────────────────────────────────────\n",
      "       Test metric             DataLoader 0\n",
      "────────────────────────────────────────────────────────────────────────────────────────────────────────────────────────\n",
      "     test_loss_epoch        2.7646102905273438\n",
      "────────────────────────────────────────────────────────────────────────────────────────────────────────────────────────\n"
     ]
    },
    {
     "data": {
      "text/plain": [
       "[{'test_loss_epoch': 2.7646102905273438}]"
      ]
     },
     "execution_count": 4,
     "metadata": {},
     "output_type": "execute_result"
    }
   ],
   "source": [
    "trainer.test(datamodule=dataLoader)"
   ]
  },
  {
   "cell_type": "code",
   "execution_count": null,
   "metadata": {},
   "outputs": [
    {
     "data": {
      "text/plain": [
       "question        Вопрос|Где встречаются первые упоминания о стр...\n",
       "context         Контекст|Первые упоминания о строении человече...\n",
       "answer_text                                      в Древнем Египте\n",
       "answer start                                                   60\n",
       "answer_end                                                     76\n",
       "Name: 0, dtype: object"
      ]
     },
     "execution_count": 6,
     "metadata": {},
     "output_type": "execute_result"
    }
   ],
   "source": [
    "qa_sample = val_df.iloc[0]\n",
    "qa_sample"
   ]
  }
 ],
 "metadata": {
  "kernelspec": {
   "display_name": ".venv",
   "language": "python",
   "name": "python3"
  },
  "language_info": {
   "codemirror_mode": {
    "name": "ipython",
    "version": 3
   },
   "file_extension": ".py",
   "mimetype": "text/x-python",
   "name": "python",
   "nbconvert_exporter": "python",
   "pygments_lexer": "ipython3",
   "version": "3.12.8"
  }
 },
 "nbformat": 4,
 "nbformat_minor": 4
}
