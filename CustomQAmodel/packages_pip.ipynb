{
 "cells": [
  {
   "cell_type": "markdown",
   "metadata": {},
   "source": [
    "# Важно обязательно использовать отдельное/виртуальное окружение python!"
   ]
  },
  {
   "cell_type": "markdown",
   "metadata": {},
   "source": [
    "### Установка необходимых пакетов"
   ]
  },
  {
   "cell_type": "code",
   "execution_count": 1,
   "metadata": {},
   "outputs": [
    {
     "name": "stdout",
     "output_type": "stream",
     "text": [
      "c:\\Users\\SawKing\\Documents\\T5\\.venv\n",
      "c:\\Users\\SawKing\\Documents\\T5\\.venv\\Scripts\\python.exe\n"
     ]
    }
   ],
   "source": [
    "import sys\n",
    "\n",
    "# Путь до директории текущего окружения (.venv)\n",
    "print(sys.prefix) \n",
    "\n",
    "# Путь до интерпретатора\n",
    "print(sys.executable)"
   ]
  },
  {
   "cell_type": "code",
   "execution_count": 2,
   "metadata": {},
   "outputs": [],
   "source": [
    "import sys\n",
    "\n",
    "# PyTorch требует проверки работы см. \"Проверка доступности gpu\" ниже\n",
    "!{sys.executable} -m pip install torch --index-url https://download.pytorch.org/whl/cu121 --quiet\n",
    "#!{sys.executable} -m pip install torchvision torchaudio --index-url https://download.pytorch.org/whl/cu121\n",
    "!{sys.executable} -m pip install sentencepiece --quiet\n",
    "!{sys.executable} -m pip install transformers --quiet\n",
    "!{sys.executable} -m pip install scikit-learn --quiet\n",
    "!{sys.executable} -m pip install lightning --quiet\n",
    "#!{sys.executable} -m pip install datasets\n",
    "!{sys.executable} -m pip install ipywidgets --quiet\n",
    "!{sys.executable} -m pip install evaluate --quiet\n",
    "!{sys.executable} -m pip install protobuf --quiet\n",
    "!{sys.executable} -m  pip install nltk --quiet\n",
    "!{sys.executable} -m  pip install  tqdm --quiet"
   ]
  },
  {
   "cell_type": "markdown",
   "metadata": {},
   "source": [
    "### Проверка доступности gpu"
   ]
  },
  {
   "cell_type": "code",
   "execution_count": 1,
   "metadata": {},
   "outputs": [
    {
     "name": "stdout",
     "output_type": "stream",
     "text": [
      "tensor([[0.5411, 0.6234, 0.2424],\n",
      "        [0.3411, 0.6809, 0.1040]])\n",
      "True\n",
      "[(0, _CudaDeviceProperties(name='NVIDIA GeForce RTX 3090 Ti', major=8, minor=6, total_memory=24563MB, multi_processor_count=84))]\n"
     ]
    }
   ],
   "source": [
    "import torch\n",
    "\n",
    "print(torch.rand(2, 3))\n",
    "print(torch.cuda.is_available())\n",
    "print([(i, torch.cuda.get_device_properties(i)) for i in range(torch.cuda.device_count())])"
   ]
  }
 ],
 "metadata": {
  "kernelspec": {
   "display_name": ".venv",
   "language": "python",
   "name": "python3"
  },
  "language_info": {
   "codemirror_mode": {
    "name": "ipython",
    "version": 3
   },
   "file_extension": ".py",
   "mimetype": "text/x-python",
   "name": "python",
   "nbconvert_exporter": "python",
   "pygments_lexer": "ipython3",
   "version": "3.12.4"
  }
 },
 "nbformat": 4,
 "nbformat_minor": 2
}
